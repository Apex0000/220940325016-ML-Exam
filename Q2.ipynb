{
 "cells": [
  {
   "cell_type": "code",
   "execution_count": 1,
   "id": "39488bdd",
   "metadata": {},
   "outputs": [],
   "source": [
    "import pandas as pd\n",
    "import numpy as np\n",
    "import seaborn as sns\n",
    "import matplotlib.pyplot as plt\n"
   ]
  },
  {
   "cell_type": "code",
   "execution_count": 2,
   "id": "6aff64f5",
   "metadata": {},
   "outputs": [],
   "source": [
    "a=pd.read_excel(\"data23.xlsx\")"
   ]
  },
  {
   "cell_type": "code",
   "execution_count": 3,
   "id": "3ea3caa0",
   "metadata": {},
   "outputs": [
    {
     "data": {
      "text/html": [
       "<div>\n",
       "<style scoped>\n",
       "    .dataframe tbody tr th:only-of-type {\n",
       "        vertical-align: middle;\n",
       "    }\n",
       "\n",
       "    .dataframe tbody tr th {\n",
       "        vertical-align: top;\n",
       "    }\n",
       "\n",
       "    .dataframe thead th {\n",
       "        text-align: right;\n",
       "    }\n",
       "</style>\n",
       "<table border=\"1\" class=\"dataframe\">\n",
       "  <thead>\n",
       "    <tr style=\"text-align: right;\">\n",
       "      <th></th>\n",
       "      <th>observation</th>\n",
       "      <th>feature</th>\n",
       "      <th>price</th>\n",
       "    </tr>\n",
       "  </thead>\n",
       "  <tbody>\n",
       "    <tr>\n",
       "      <th>0</th>\n",
       "      <td>0.44</td>\n",
       "      <td>0.68</td>\n",
       "      <td>511.14</td>\n",
       "    </tr>\n",
       "    <tr>\n",
       "      <th>1</th>\n",
       "      <td>0.99</td>\n",
       "      <td>0.23</td>\n",
       "      <td>717.10</td>\n",
       "    </tr>\n",
       "    <tr>\n",
       "      <th>2</th>\n",
       "      <td>0.84</td>\n",
       "      <td>0.29</td>\n",
       "      <td>607.91</td>\n",
       "    </tr>\n",
       "    <tr>\n",
       "      <th>3</th>\n",
       "      <td>0.28</td>\n",
       "      <td>0.45</td>\n",
       "      <td>270.40</td>\n",
       "    </tr>\n",
       "    <tr>\n",
       "      <th>4</th>\n",
       "      <td>0.07</td>\n",
       "      <td>0.83</td>\n",
       "      <td>289.88</td>\n",
       "    </tr>\n",
       "    <tr>\n",
       "      <th>...</th>\n",
       "      <td>...</td>\n",
       "      <td>...</td>\n",
       "      <td>...</td>\n",
       "    </tr>\n",
       "    <tr>\n",
       "      <th>95</th>\n",
       "      <td>0.99</td>\n",
       "      <td>0.13</td>\n",
       "      <td>636.22</td>\n",
       "    </tr>\n",
       "    <tr>\n",
       "      <th>96</th>\n",
       "      <td>0.28</td>\n",
       "      <td>0.46</td>\n",
       "      <td>272.12</td>\n",
       "    </tr>\n",
       "    <tr>\n",
       "      <th>97</th>\n",
       "      <td>0.87</td>\n",
       "      <td>0.36</td>\n",
       "      <td>696.65</td>\n",
       "    </tr>\n",
       "    <tr>\n",
       "      <th>98</th>\n",
       "      <td>0.23</td>\n",
       "      <td>0.87</td>\n",
       "      <td>434.53</td>\n",
       "    </tr>\n",
       "    <tr>\n",
       "      <th>99</th>\n",
       "      <td>0.77</td>\n",
       "      <td>0.36</td>\n",
       "      <td>593.86</td>\n",
       "    </tr>\n",
       "  </tbody>\n",
       "</table>\n",
       "<p>100 rows × 3 columns</p>\n",
       "</div>"
      ],
      "text/plain": [
       "    observation  feature   price\n",
       "0          0.44     0.68  511.14\n",
       "1          0.99     0.23  717.10\n",
       "2          0.84     0.29  607.91\n",
       "3          0.28     0.45  270.40\n",
       "4          0.07     0.83  289.88\n",
       "..          ...      ...     ...\n",
       "95         0.99     0.13  636.22\n",
       "96         0.28     0.46  272.12\n",
       "97         0.87     0.36  696.65\n",
       "98         0.23     0.87  434.53\n",
       "99         0.77     0.36  593.86\n",
       "\n",
       "[100 rows x 3 columns]"
      ]
     },
     "execution_count": 3,
     "metadata": {},
     "output_type": "execute_result"
    }
   ],
   "source": [
    "a"
   ]
  },
  {
   "cell_type": "code",
   "execution_count": 5,
   "id": "1e704a1b",
   "metadata": {},
   "outputs": [
    {
     "data": {
      "text/html": [
       "<div>\n",
       "<style scoped>\n",
       "    .dataframe tbody tr th:only-of-type {\n",
       "        vertical-align: middle;\n",
       "    }\n",
       "\n",
       "    .dataframe tbody tr th {\n",
       "        vertical-align: top;\n",
       "    }\n",
       "\n",
       "    .dataframe thead th {\n",
       "        text-align: right;\n",
       "    }\n",
       "</style>\n",
       "<table border=\"1\" class=\"dataframe\">\n",
       "  <thead>\n",
       "    <tr style=\"text-align: right;\">\n",
       "      <th></th>\n",
       "      <th>observation</th>\n",
       "      <th>feature</th>\n",
       "      <th>price</th>\n",
       "    </tr>\n",
       "  </thead>\n",
       "  <tbody>\n",
       "    <tr>\n",
       "      <th>0</th>\n",
       "      <td>0.44</td>\n",
       "      <td>0.68</td>\n",
       "      <td>511.14</td>\n",
       "    </tr>\n",
       "    <tr>\n",
       "      <th>1</th>\n",
       "      <td>0.99</td>\n",
       "      <td>0.23</td>\n",
       "      <td>717.10</td>\n",
       "    </tr>\n",
       "    <tr>\n",
       "      <th>2</th>\n",
       "      <td>0.84</td>\n",
       "      <td>0.29</td>\n",
       "      <td>607.91</td>\n",
       "    </tr>\n",
       "    <tr>\n",
       "      <th>3</th>\n",
       "      <td>0.28</td>\n",
       "      <td>0.45</td>\n",
       "      <td>270.40</td>\n",
       "    </tr>\n",
       "    <tr>\n",
       "      <th>4</th>\n",
       "      <td>0.07</td>\n",
       "      <td>0.83</td>\n",
       "      <td>289.88</td>\n",
       "    </tr>\n",
       "    <tr>\n",
       "      <th>...</th>\n",
       "      <td>...</td>\n",
       "      <td>...</td>\n",
       "      <td>...</td>\n",
       "    </tr>\n",
       "    <tr>\n",
       "      <th>95</th>\n",
       "      <td>0.99</td>\n",
       "      <td>0.13</td>\n",
       "      <td>636.22</td>\n",
       "    </tr>\n",
       "    <tr>\n",
       "      <th>96</th>\n",
       "      <td>0.28</td>\n",
       "      <td>0.46</td>\n",
       "      <td>272.12</td>\n",
       "    </tr>\n",
       "    <tr>\n",
       "      <th>97</th>\n",
       "      <td>0.87</td>\n",
       "      <td>0.36</td>\n",
       "      <td>696.65</td>\n",
       "    </tr>\n",
       "    <tr>\n",
       "      <th>98</th>\n",
       "      <td>0.23</td>\n",
       "      <td>0.87</td>\n",
       "      <td>434.53</td>\n",
       "    </tr>\n",
       "    <tr>\n",
       "      <th>99</th>\n",
       "      <td>0.77</td>\n",
       "      <td>0.36</td>\n",
       "      <td>593.86</td>\n",
       "    </tr>\n",
       "  </tbody>\n",
       "</table>\n",
       "<p>100 rows × 3 columns</p>\n",
       "</div>"
      ],
      "text/plain": [
       "    observation  feature   price\n",
       "0          0.44     0.68  511.14\n",
       "1          0.99     0.23  717.10\n",
       "2          0.84     0.29  607.91\n",
       "3          0.28     0.45  270.40\n",
       "4          0.07     0.83  289.88\n",
       "..          ...      ...     ...\n",
       "95         0.99     0.13  636.22\n",
       "96         0.28     0.46  272.12\n",
       "97         0.87     0.36  696.65\n",
       "98         0.23     0.87  434.53\n",
       "99         0.77     0.36  593.86\n",
       "\n",
       "[100 rows x 3 columns]"
      ]
     },
     "execution_count": 5,
     "metadata": {},
     "output_type": "execute_result"
    }
   ],
   "source": [
    "a.drop_duplicates()"
   ]
  },
  {
   "cell_type": "code",
   "execution_count": 8,
   "id": "ee2ca9dd",
   "metadata": {},
   "outputs": [
    {
     "data": {
      "text/html": [
       "<div>\n",
       "<style scoped>\n",
       "    .dataframe tbody tr th:only-of-type {\n",
       "        vertical-align: middle;\n",
       "    }\n",
       "\n",
       "    .dataframe tbody tr th {\n",
       "        vertical-align: top;\n",
       "    }\n",
       "\n",
       "    .dataframe thead th {\n",
       "        text-align: right;\n",
       "    }\n",
       "</style>\n",
       "<table border=\"1\" class=\"dataframe\">\n",
       "  <thead>\n",
       "    <tr style=\"text-align: right;\">\n",
       "      <th></th>\n",
       "      <th>observation</th>\n",
       "      <th>feature</th>\n",
       "    </tr>\n",
       "  </thead>\n",
       "  <tbody>\n",
       "    <tr>\n",
       "      <th>0</th>\n",
       "      <td>0.44</td>\n",
       "      <td>0.68</td>\n",
       "    </tr>\n",
       "    <tr>\n",
       "      <th>1</th>\n",
       "      <td>0.99</td>\n",
       "      <td>0.23</td>\n",
       "    </tr>\n",
       "    <tr>\n",
       "      <th>2</th>\n",
       "      <td>0.84</td>\n",
       "      <td>0.29</td>\n",
       "    </tr>\n",
       "    <tr>\n",
       "      <th>3</th>\n",
       "      <td>0.28</td>\n",
       "      <td>0.45</td>\n",
       "    </tr>\n",
       "    <tr>\n",
       "      <th>4</th>\n",
       "      <td>0.07</td>\n",
       "      <td>0.83</td>\n",
       "    </tr>\n",
       "  </tbody>\n",
       "</table>\n",
       "</div>"
      ],
      "text/plain": [
       "   observation  feature\n",
       "0         0.44     0.68\n",
       "1         0.99     0.23\n",
       "2         0.84     0.29\n",
       "3         0.28     0.45\n",
       "4         0.07     0.83"
      ]
     },
     "execution_count": 8,
     "metadata": {},
     "output_type": "execute_result"
    }
   ],
   "source": [
    "x=a.iloc[:,:-1]\n",
    "y=a.iloc[:,-1]\n",
    "x.head()"
   ]
  },
  {
   "cell_type": "code",
   "execution_count": 9,
   "id": "cf2a7430",
   "metadata": {},
   "outputs": [
    {
     "data": {
      "text/plain": [
       "0    511.14\n",
       "1    717.10\n",
       "2    607.91\n",
       "3    270.40\n",
       "4    289.88\n",
       "Name: price, dtype: float64"
      ]
     },
     "execution_count": 9,
     "metadata": {},
     "output_type": "execute_result"
    }
   ],
   "source": [
    "y.head()"
   ]
  },
  {
   "cell_type": "code",
   "execution_count": 10,
   "id": "4057c9a9",
   "metadata": {},
   "outputs": [],
   "source": [
    "from sklearn.model_selection import train_test_split\n",
    "x_train,x_test,y_train,y_test=train_test_split(x,y,test_size=0.2,random_state=42)"
   ]
  },
  {
   "cell_type": "code",
   "execution_count": 11,
   "id": "93b9e205",
   "metadata": {},
   "outputs": [],
   "source": [
    "from sklearn.preprocessing import PolynomialFeatures\n",
    "from sklearn.linear_model import LinearRegression"
   ]
  },
  {
   "cell_type": "code",
   "execution_count": 14,
   "id": "4ba528f5",
   "metadata": {},
   "outputs": [],
   "source": [
    "polynom=PolynomialFeatures(degree=3)\n",
    "x_train=polynom.fit_transform(x_train)\n",
    "x_test=polynom.fit_transform(x_test)"
   ]
  },
  {
   "cell_type": "code",
   "execution_count": 15,
   "id": "f72922b2",
   "metadata": {},
   "outputs": [
    {
     "data": {
      "text/plain": [
       "LinearRegression()"
      ]
     },
     "execution_count": 15,
     "metadata": {},
     "output_type": "execute_result"
    }
   ],
   "source": [
    "model=LinearRegression()\n",
    "model.fit(x_train,y_train)"
   ]
  },
  {
   "cell_type": "code",
   "execution_count": 19,
   "id": "fb08d306",
   "metadata": {},
   "outputs": [
    {
     "name": "stdout",
     "output_type": "stream",
     "text": [
      "720.75==>719.46\n",
      "694.5==>702.78\n",
      "34.0==>98.47\n",
      "1316.25==>1193.7\n",
      "673.25==>671.46\n",
      "1869.25==>1449.05\n",
      "1028.75==>1046.05\n",
      "786.5==>784.74\n",
      "176.5==>177.03\n",
      "510.25==>511.14\n",
      "920.75==>932.21\n",
      "338.25==>341.2\n",
      "508.25==>483.13\n",
      "903.75==>895.54\n",
      "661.75==>661.12\n",
      "368.75==>289.88\n",
      "950.0==>957.61\n",
      "515.75==>518.29\n",
      "884.0==>891.37\n",
      "1161.75==>1194.63\n"
     ]
    }
   ],
   "source": [
    "y_preds=model.predict(x_test)\n",
    "y_pred=y_preds.tolist()\n",
    "y_test=y_test.tolist()\n",
    "\n",
    "for i in range(len(y_pred)):\n",
    "    print(f\"{round(y_pred[i],2)}==>{y_test[i]}\")"
   ]
  },
  {
   "cell_type": "code",
   "execution_count": 20,
   "id": "e94898f0",
   "metadata": {},
   "outputs": [
    {
     "data": {
      "text/plain": [
       "array([ 1.30528276e+15,  8.71709206e+13,  8.29608244e+13,  3.25561083e+13,\n",
       "        2.74399707e+13,  1.98798216e+13, -6.37531230e+12,  6.53013969e+13,\n",
       "       -1.59294370e+13,  1.08438869e+12,  2.05226981e+13,  1.31496631e+12,\n",
       "       -2.66768905e+13, -1.42560385e+13, -2.57754582e+12, -1.25861625e+13,\n",
       "        3.73829389e+12, -1.07082205e+13,  3.36795279e+12,  3.60385934e+11,\n",
       "       -4.67965303e+12, -8.86936948e+12, -2.89260861e+12, -1.27654880e+13,\n",
       "        2.80570589e+12,  3.75321855e+11, -4.39726451e+12,  5.22698535e+12,\n",
       "       -4.23118028e+12,  7.14822816e+11,  9.62293879e+11, -3.60200259e+11,\n",
       "       -1.08951032e+12, -3.96492430e+12,  1.33247959e+11,  7.08032585e+12,\n",
       "        7.15229036e+12,  4.03598881e+12,  6.27802446e+12, -8.47954833e+12,\n",
       "        1.44281356e+12, -3.09866509e+12,  3.96108184e+12, -6.22005206e+12,\n",
       "       -5.31610330e+12, -3.95063904e+12, -1.29229289e+13, -1.29195886e+13,\n",
       "        6.14678969e+12,  5.80104692e+12,  6.42084322e+12, -6.06317150e+12,\n",
       "       -7.14097941e+11, -1.79588691e+12, -6.14175221e+12,  9.12005986e+11,\n",
       "       -4.58007650e+12, -1.63608668e+12, -8.18912640e+12,  3.69313538e+11,\n",
       "        1.05831722e+13, -2.78560498e+12,  3.59063898e+11, -7.27680767e+11,\n",
       "        4.32069651e+12,  4.04313631e+12, -4.68750000e-02, -5.62839339e+13,\n",
       "       -1.83000698e+13, -7.99652769e+12, -2.20052522e+12,  8.37362281e+11,\n",
       "       -1.39425629e+13,  3.44820393e+12,  1.18349744e+11, -3.95937371e+12,\n",
       "       -7.99652769e+12, -2.20052522e+12, -1.39425629e+13,  3.44820393e+12,\n",
       "        1.18349744e+11, -4.08073115e+12,  4.47293169e+12, -4.18758894e+12,\n",
       "        5.78341179e+11,  8.37362281e+11, -2.28633805e+11, -1.08563557e+12,\n",
       "       -3.95937371e+12,  1.39684175e+11,  7.06638312e+12,  7.15008648e+12,\n",
       "        4.04512533e+12,  6.28070270e+12, -8.48003895e+12,  1.44283417e+12,\n",
       "       -3.10015294e+12,  3.96124166e+12, -6.21981515e+12, -5.31563083e+12,\n",
       "       -3.95060454e+12, -1.29228026e+13, -1.29196178e+13,  6.14694972e+12,\n",
       "        5.80125237e+12,  6.42082742e+12, -6.06306652e+12, -7.14018438e+11,\n",
       "       -1.79592856e+12, -6.14169415e+12,  9.11991799e+11, -4.58007650e+12,\n",
       "       -1.63608668e+12, -8.18912640e+12,  3.69313538e+11,  1.05831722e+13,\n",
       "       -2.78560498e+12,  3.59063898e+11, -7.27680767e+11,  4.32069651e+12,\n",
       "        4.04313631e+12, -1.39425629e+13,  3.44820393e+12, -4.08073115e+12,\n",
       "        4.47293169e+12, -4.18758894e+12,  5.15441564e+12,  1.37468292e+13,\n",
       "       -2.90221402e+12,  4.39179464e+12,  1.18349744e+11,  2.51380832e+12,\n",
       "        3.64175438e+12,  5.78341179e+11,  4.29911924e+12,  9.38309295e+12,\n",
       "        8.07655853e+12,  7.50056661e+12,  1.04440200e+12,  6.40614001e+12,\n",
       "       -1.15989127e+12,  3.62000448e+11,  7.54723638e+12, -2.69864114e+12,\n",
       "        1.04313318e+13, -4.01385004e+11, -7.90668729e+12,  2.45460732e+12,\n",
       "        4.45322179e+12, -1.88215926e+12,  7.09529587e+12,  3.45346884e+12,\n",
       "        3.37860108e+12, -3.39918017e+12,  5.81225677e+12,  2.66569162e+12,\n",
       "       -9.79481484e+12,  2.94248189e+12, -1.10371779e+13, -2.66030867e+12,\n",
       "        6.13283536e+12,  1.39658047e+12,  4.10790102e+12, -2.33195686e+12,\n",
       "        1.79863315e+13,  1.49947211e+13, -3.95937371e+12, -1.66507759e+11,\n",
       "        9.67185000e+12,  4.04512533e+12,  6.27556744e+11,  1.13898091e+13,\n",
       "       -4.96623296e+11,  3.88416561e+12, -6.53520830e+12, -3.97292054e+12,\n",
       "       -1.63897122e+13, -5.01011124e+12, -1.71484415e+12, -5.81848382e+12,\n",
       "        1.30665003e+12,  3.05948592e+12, -1.10156380e+13, -6.21703396e+12,\n",
       "        7.58232633e+12,  4.63449469e+12,  4.37259479e+12, -5.70816691e+12,\n",
       "       -1.72647166e+11,  1.79380167e+12, -4.09556159e+12, -6.25042413e+11,\n",
       "       -2.19333050e+12,  5.15616344e+11, -1.17164780e+13, -4.85066618e+12,\n",
       "        5.35596415e+12,  6.58195476e+11,  6.75679937e+12, -2.65081484e+12,\n",
       "        4.48629900e+12,  5.02506178e+12,  8.79815300e+12, -1.71955787e+12,\n",
       "       -2.64552708e+12,  9.79481434e+12,  1.14028845e+12, -7.98425249e+11,\n",
       "       -4.04172415e+11,  6.56140147e+11, -1.47095554e+12, -1.88943857e+12,\n",
       "        6.62812683e+12, -2.53445490e+12, -6.14852152e+11, -8.88477478e+12,\n",
       "       -4.55671873e+11, -5.97941920e+12,  5.28844502e+12, -9.32799214e+12,\n",
       "        3.66907016e+05, -8.63817394e+12, -5.97613714e+12, -3.63261459e+12,\n",
       "        9.43252413e+12,  2.35681407e+12, -3.96148179e+11,  3.95472718e+12,\n",
       "        7.68856127e+11, -2.79345052e+12, -4.37643790e+11, -1.10204898e+13,\n",
       "       -9.85309881e+11,  1.92981631e+12, -1.88550911e+12,  1.96048037e+12,\n",
       "       -1.15841142e+13,  1.46124654e+13, -2.48038458e+12,  5.00164260e+12,\n",
       "       -1.67206209e+13,  8.63817230e+12,  4.97622607e+11, -3.60713623e+12,\n",
       "       -9.27412484e+12,  8.51956303e+12,  2.69569961e+12,  2.13611878e+12,\n",
       "       -3.90417572e+12,  8.37505837e+12, -6.93975722e+11, -7.46122533e+12,\n",
       "        2.10882477e+12, -1.97264471e+13, -2.76040374e+12, -5.02506571e+12,\n",
       "       -3.95400718e+12, -3.63662261e+12, -6.49742974e+12,  7.44337275e+11,\n",
       "        9.51727881e+12,  2.54863585e+11,  7.48055460e+12, -1.30621619e+13,\n",
       "        6.93978326e+11,  1.70939870e+06, -1.06383938e+05,  5.18160641e+05,\n",
       "       -4.26321550e+12, -4.16042715e+12,  4.26321520e+12, -2.02150966e+12,\n",
       "        4.44954972e+12, -4.17668575e+12, -4.07194276e+12, -6.52440854e+11,\n",
       "        6.18193603e+12, -2.72864654e+11,  5.20743406e+12, -1.13549181e+12,\n",
       "        6.50280649e+12,  4.51439970e+12, -5.85036533e+12, -4.51440007e+12,\n",
       "       -5.63890062e+05, -3.14232531e+05])"
      ]
     },
     "execution_count": 20,
     "metadata": {},
     "output_type": "execute_result"
    }
   ],
   "source": [
    "model.coef_"
   ]
  },
  {
   "cell_type": "code",
   "execution_count": null,
   "id": "f09f43c7",
   "metadata": {},
   "outputs": [],
   "source": []
  }
 ],
 "metadata": {
  "kernelspec": {
   "display_name": "Python 3 (ipykernel)",
   "language": "python",
   "name": "python3"
  },
  "language_info": {
   "codemirror_mode": {
    "name": "ipython",
    "version": 3
   },
   "file_extension": ".py",
   "mimetype": "text/x-python",
   "name": "python",
   "nbconvert_exporter": "python",
   "pygments_lexer": "ipython3",
   "version": "3.9.12"
  }
 },
 "nbformat": 4,
 "nbformat_minor": 5
}
